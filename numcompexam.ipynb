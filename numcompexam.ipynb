{
 "cells": [
  {
   "cell_type": "code",
   "execution_count": 55,
   "metadata": {},
   "outputs": [
    {
     "name": "stdout",
     "output_type": "stream",
     "text": [
      "[1.03125 1.03125]\n"
     ]
    }
   ],
   "source": [
    "#jacobi method:\n",
    "\n",
    "import numpy as np\n",
    "def jacobi(A, b, x0, max_iter, tol):\n",
    "    n = len(A)\n",
    "    x = x0.copy()\n",
    "    for i in range(max_iter):\n",
    "        x_new = np.zeros_like(x)\n",
    "        for j in range(n):\n",
    "            s = sum(A[j, k] * x[k] for k in range(n) if k != j)\n",
    "            x_new[j] = (b[j] - s) / A[j, j]\n",
    "        if np.allclose(x, x_new, rtol=tol):\n",
    "            return x_new\n",
    "        x = x_new\n",
    "    return x\n",
    "#Edit the following values:\n",
    "A = np.array([[2.0,1.0],[1.0,2.0]])\n",
    "\n",
    "b = np.array([3.0,3.0])\n",
    "\n",
    "# This will be given:\n",
    "x0 = np.array([0.0,0.0])\n",
    "\n",
    "#Edit the max iterations:\n",
    "x = jacobi(A, b, x0, max_iter=5, tol=1e-6)\n",
    "print(x)"
   ]
  },
  {
   "cell_type": "code",
   "execution_count": 1,
   "metadata": {},
   "outputs": [
    {
     "name": "stdout",
     "output_type": "stream",
     "text": [
      "[0.5 3.5 1.5]\n"
     ]
    }
   ],
   "source": [
    "#Gauss Siedel method\n",
    "import numpy as np\n",
    "\n",
    "def gauss_seidel(A, b, x0, max_iter, tol):\n",
    "    n = len(A)\n",
    "    x = x0.copy()\n",
    "    for i in range(max_iter):\n",
    "        x_new = np.zeros_like(x)\n",
    "        for j in range(n):\n",
    "            s = sum(A[j, k] * x_new[k] for k in range(n) if k < j)\n",
    "            s += sum(A[j, k] * x[k] for k in range(n) if k > j)\n",
    "            x_new[j] = (b[j] - s) / A[j, j]\n",
    "        if np.allclose(x, x_new, rtol=tol):\n",
    "            return x_new\n",
    "        x = x_new\n",
    "    return x\n",
    "\n",
    "A = np.array([[2.0,-1.0,0.0],[-1.0,1.0,3.0],[1.0,0.0,1.0]])\n",
    "b = np.array([1.0,3.0,2.0])\n",
    "x0 = np.array([0.0,0.0,0.0])\n",
    "\n",
    "x = gauss_seidel(A, b, x0, max_iter=1, tol=1e-6)\n",
    "print(x)"
   ]
  },
  {
   "cell_type": "code",
   "execution_count": 33,
   "metadata": {},
   "outputs": [
    {
     "name": "stdout",
     "output_type": "stream",
     "text": [
      "[[1.   0.   0.  ]\n",
      " [0.5  1.   0.  ]\n",
      " [0.25 0.5  1.  ]]\n",
      "[[ 4.  -1.  -1. ]\n",
      " [ 0.   4.5  2.5]\n",
      " [ 0.   0.   3. ]]\n"
     ]
    }
   ],
   "source": [
    "import numpy as np\n",
    "\n",
    "def LU_factorization(A):\n",
    "    n = len(A)\n",
    "    L = np.eye(n)\n",
    "    U = A.copy()\n",
    "    for j in range(n):\n",
    "        for i in range(j+1, n):\n",
    "            L[i, j] = U[i, j] / U[j, j]\n",
    "            for k in range(j, n):\n",
    "                U[i, k] = U[i, k] - L[i, j] * U[j, k]\n",
    "    return L, U\n",
    "\n",
    "A = np.array([[4.0,-1.0,-1.0],[2.0,4.0,2.0],[1.0,2.0,4.0]])\n",
    "L, U = LU_factorization(A)\n",
    "print(L)\n",
    "print(U)"
   ]
  },
  {
   "cell_type": "code",
   "execution_count": 29,
   "metadata": {},
   "outputs": [
    {
     "name": "stdout",
     "output_type": "stream",
     "text": [
      "[ 1.83333333 -3.33333333  1.66666667]\n"
     ]
    }
   ],
   "source": [
    "import numpy as np\n",
    "\n",
    "def gaussian_elimination(A, b):\n",
    "    n = len(A)\n",
    "    for i in range(n):\n",
    "        pivot = i\n",
    "        for j in range(i+1, n):\n",
    "            if abs(A[j, i]) > abs(A[pivot, i]):\n",
    "                pivot = j\n",
    "        A[[i, pivot], :] = A[[pivot, i], :]\n",
    "        b[[i, pivot]] = b[[pivot, i]]\n",
    "        for j in range(i+1, n):\n",
    "            m = A[j, i] / A[i, i]\n",
    "            A[j, i:] = A[j, i:] - m * A[i, i:]\n",
    "            b[j] = b[j] - m * b[i]\n",
    "    x = np.zeros(n)\n",
    "    for i in range(n-1, -1, -1):\n",
    "        x[i] = (b[i] - np.dot(A[i, i+1:], x[i+1:])) / A[i, i]\n",
    "    return x\n",
    "#Edit these arrays:\n",
    "\n",
    "A = np.array([[4,-1,-1],[0,4,2],[0,0,3]])\n",
    "b = np.array([9,-10,5])\n",
    "\n",
    "x = gaussian_elimination(A, b)\n",
    "print(x)"
   ]
  },
  {
   "cell_type": "code",
   "execution_count": 59,
   "metadata": {},
   "outputs": [
    {
     "name": "stdout",
     "output_type": "stream",
     "text": [
      "[0. 2. 0. 1.]\n"
     ]
    }
   ],
   "source": [
    "#Sparse matrices\n",
    "import numpy as np\n",
    "\n",
    "A_real = np.array([1.0, 1.0, 1.0, -1.0, 1.0], dtype=np.float64)\n",
    "I_row = np.array([1.0,1.0,2.0,2.0,3.0], dtype=np.int32)\n",
    "I_col = np.array([1.0,3.0,1.0,2.0,2.0], dtype=np.int32) \n",
    "\n",
    "nonzero = len(A_real)\n",
    "dim = 4\n",
    "y = np.zeros(dim) + 1.0\n",
    "z = np.zeros(dim)\n",
    "\n",
    "for k in range(nonzero):\n",
    "    z[I_row[k]] += A_real[k] * y[I_col[k]]\n",
    "\n",
    "print(z)"
   ]
  },
  {
   "cell_type": "code",
   "execution_count": 57,
   "metadata": {},
   "outputs": [
    {
     "name": "stdout",
     "output_type": "stream",
     "text": [
      "[   2.    0. 1000.]\n"
     ]
    }
   ],
   "source": [
    "import numpy as np\n",
    "\n",
    "def gaussian_elimination_with_pivoting(A, b):\n",
    "    n = len(A)\n",
    "    # perform Gaussian elimination\n",
    "    for i in range(n):\n",
    "        # find pivot row\n",
    "        pivot = i\n",
    "        for j in range(i + 1, n):\n",
    "            if abs(A[j][i]) > abs(A[pivot][i]):\n",
    "                pivot = j\n",
    "        # swap rows\n",
    "        if pivot != i:\n",
    "            A[[i, pivot]] = A[[pivot, i]]\n",
    "            b[[i, pivot]] = b[[pivot, i]]\n",
    "        # perform elimination\n",
    "        for j in range(i + 1, n):\n",
    "            m = A[j][i] / A[i][i]\n",
    "            A[j,i:] = A[j,i:] - m * A[i,i:]\n",
    "            b[j] = b[j] - m * b[i]\n",
    "    # perform back-substitution\n",
    "    x = np.zeros(n)\n",
    "    for i in range(n-1, -1, -1):\n",
    "        x[i] = (b[i] - np.dot(A[i,i+1:], x[i+1:])) / A[i][i]\n",
    "    return x\n",
    "\n",
    "# Example usage:\n",
    "# Solve the system of linear equations 3x + y = 9 and x + 2y = 8\n",
    "A = np.array([[0.0,1.0,0.0],[1.0,1.001,1.0],[100.0,100.0,0.0]])\n",
    "b = np.array([0.0,1002.0,200.0])\n",
    "x = gaussian_elimination_with_pivoting(A, b)\n",
    "print(x) # Output: [1. 2.]"
   ]
  },
  {
   "cell_type": "code",
   "execution_count": 82,
   "metadata": {},
   "outputs": [
    {
     "name": "stdout",
     "output_type": "stream",
     "text": [
      "[0.49999999 0.         1.49999999]\n"
     ]
    }
   ],
   "source": [
    "import numpy as np\n",
    "\n",
    "def jacobi(A, b, x0, max_iterations=100, tolerance=1e-6):\n",
    "    n = len(b)\n",
    "    x = x0.copy()\n",
    "    D = np.diag(A)\n",
    "    R = A - np.diagflat(D)\n",
    "    for i in range(max_iterations):\n",
    "        x_new = (b - np.dot(R, x)) / D\n",
    "        if np.allclose(x, x_new, rtol=tolerance):\n",
    "            break\n",
    "        x = x_new\n",
    "    return x\n",
    "\n",
    "# Example usage\n",
    "A = np.array([[2, 1, 0], [1, 2, 1], [0, 1, 2]])\n",
    "b = np.array([1, 2, 3])\n",
    "x0 = np.zeros(3)\n",
    "x = jacobi(A, b, x0)\n",
    "print(x)"
   ]
  },
  {
   "cell_type": "code",
   "execution_count": 18,
   "metadata": {},
   "outputs": [
    {
     "name": "stdout",
     "output_type": "stream",
     "text": [
      "[0.01 0.11 0.21 0.31 0.41 0.51 0.61 0.71 0.81 0.91 1.01]\n",
      "[0.1        0.16324555 0.24405287 0.34285628 0.45996414 0.59560546\n",
      " 0.74995642 0.92315646 1.11531853 1.32653581 1.55688648]\n"
     ]
    }
   ],
   "source": [
    "def Euler_method(t0, d0, dt, n):\n",
    "    '''\n",
    "    Input:    initial value d0, time setp dt, and total computational steps n\n",
    "    Output:   array d(n+1) with d[0] = d0, d[1] = d(0.01), d[2]=d(0.01) ... d[100] = d(1.00)\n",
    "    '''\n",
    "    d = np.zeros(n+1)\n",
    "    d[0] = d0\n",
    "\n",
    "    t = np.zeros(n+1)\n",
    "    for i in range(n+1):\n",
    "        t[i] = t0 + i*dt\n",
    "\n",
    "    # Implement Euler's method\n",
    "    for i in range(n):\n",
    "        d[i+1] = d[i] + dt * f(t[i], d[i])\n",
    "\n",
    "    return t, d\n",
    "# The right-hand side function of the differential equation\n",
    "def f(t, d):\n",
    "    return (2* d**0.5)\n",
    "\n",
    "# The exact solution of the differential equation\n",
    "def d_exact(t):\n",
    "    return t**2\n",
    "\n",
    "t0 = float(0.0)\n",
    "d0 = float(1.0)\n",
    "dt = float(0.01)\n",
    "n = int(100)\n",
    "\n",
    "t, d = Euler_method(0.01, 0.1, 0.1, 10)\n",
    "\n",
    "print(t)\n",
    "print(d)\n",
    "\n",
    "\n",
    "# de = np.zeros(n+1)\n",
    "# for i in range(n+1):\n",
    "#     de[i] = d_exact(t[i])\n",
    "    \n",
    "\n",
    "# import matplotlib.pyplot as plt\n",
    "# fig = plt.figure()\n",
    "# plt.plot(t, d, \"-r\", label=\"Euler method\")\n",
    "# plt.plot(t, de, \"-b\", label=\"Exact solution\")\n",
    "# plt.legend(loc=\"upper left\")\n",
    "# plt.xlabel(\"t\")\n",
    "# plt.ylabel(\"d\")\n",
    "# plt.grid()\n",
    "# plt.show()"
   ]
  },
  {
   "cell_type": "code",
   "execution_count": 14,
   "metadata": {},
   "outputs": [
    {
     "name": "stdout",
     "output_type": "stream",
     "text": [
      "[0.1 0.2 0.3 0.4 0.5 0.6 0.7 0.8 0.9 1.  1.1 1.2 1.3 1.4 1.5 1.6 1.7 1.8\n",
      " 1.9 2.  2.1 2.2 2.3 2.4 2.5 2.6 2.7 2.8 2.9 3.  3.1 3.2 3.3 3.4 3.5 3.6\n",
      " 3.7 3.8 3.9 4.  4.1 4.2 4.3 4.4 4.5 4.6 4.7 4.8 4.9 5.  5.1 5.2 5.3 5.4\n",
      " 5.5 5.6 5.7 5.8 5.9 6.  6.1 6.2 6.3 6.4 6.5 6.6 6.7 6.8 6.9 7.  7.1 7.2\n",
      " 7.3 7.4 7.5 7.6 7.7 7.8 7.9 8.  8.1 8.2 8.3 8.4 8.5 8.6 8.7 8.8 8.9 9.\n",
      " 9.1 9.2 9.3 9.4 9.5 9.6 9.7 9.8 9.9]\n",
      "[1.00000000e-02 3.82842712e-02 8.63885904e-02 1.54441666e-01\n",
      " 2.42473645e-01 3.50494987e-01 4.78510236e-01 6.26521678e-01\n",
      " 7.94530582e-01 9.82537713e-01 1.19054355e+00 1.41854843e+00\n",
      " 1.66655256e+00 1.93455612e+00 2.22255920e+00 2.53056191e+00\n",
      " 2.85856431e+00 3.20656644e+00 3.57456836e+00 3.96257010e+00\n",
      " 4.37057167e+00 4.79857311e+00 5.24657443e+00 5.71457565e+00\n",
      " 6.20257677e+00 6.71057782e+00 7.23857879e+00 7.78657970e+00\n",
      " 8.35458055e+00 8.94258134e+00 9.55058210e+00 1.01785828e+01\n",
      " 1.08265835e+01 1.14945841e+01 1.21825847e+01 1.28905853e+01\n",
      " 1.36185858e+01 1.43665864e+01 1.51345869e+01 1.59225873e+01\n",
      " 1.67305878e+01 1.75585882e+01 1.84065887e+01 1.92745891e+01\n",
      " 2.01625895e+01 2.10705898e+01 2.19985902e+01 2.29465905e+01\n",
      " 2.39145909e+01 2.49025912e+01 2.59105915e+01 2.69385919e+01\n",
      " 2.79865922e+01 2.90545924e+01 3.01425927e+01 3.12505930e+01\n",
      " 3.23785933e+01 3.35265936e+01 3.46945938e+01 3.58825941e+01\n",
      " 3.70905943e+01 3.83185945e+01 3.95665948e+01 4.08345950e+01\n",
      " 4.21225952e+01 4.34305955e+01 4.47585957e+01 4.61065959e+01\n",
      " 4.74745961e+01 4.88625963e+01 5.02705965e+01 5.16985967e+01\n",
      " 5.31465969e+01 5.46145971e+01 5.61025973e+01 5.76105975e+01\n",
      " 5.91385976e+01 6.06865978e+01 6.22545980e+01 6.38425982e+01\n",
      " 6.54505983e+01 6.70785985e+01 6.87265987e+01 7.03945988e+01\n",
      " 7.20825990e+01 7.37905992e+01 7.55185993e+01 7.72665995e+01\n",
      " 7.90345996e+01 8.08225998e+01 8.26305999e+01 8.44586001e+01\n",
      " 8.63066002e+01 8.81746004e+01 9.00626005e+01 9.19706007e+01\n",
      " 9.38986008e+01 9.58466010e+01 9.78146011e+01]\n"
     ]
    }
   ],
   "source": [
    "#Euler's method using midpoint\n",
    "\n",
    "import numpy as np\n",
    "\n",
    "def euler_midpoint(f, y0, t0, tf, h):\n",
    "    \"\"\"\n",
    "    Solve an ODE using the midpoint method.\n",
    "\n",
    "    Parameters:\n",
    "        f (function): The ODE to be solved.\n",
    "        y0 (float): The initial value of the solution.\n",
    "        t0 (float): The initial time.\n",
    "        tf (float): The final time.\n",
    "        h (float): The time step size.\n",
    "\n",
    "    Returns:\n",
    "        t (array): The time steps.\n",
    "        y (array): The solution at each time step.\n",
    "    \"\"\"\n",
    "    t = np.arange(t0, tf, h)\n",
    "    y = np.zeros(len(t))\n",
    "    y[0] = y0\n",
    "\n",
    "    for i in range(1, len(t)):\n",
    "        k1 = h * f(t[i-1], y[i-1])\n",
    "        k2 = h * f(t[i-1] + h/2, y[i-1] + k1/2)\n",
    "        y[i] = y[i-1] + k2\n",
    "\n",
    "    return t, y\n",
    "\n",
    "def ode(t, y):\n",
    "    return (2* y**0.5)\n",
    "\n",
    "#print(euler_midpoint(ode,2,0,1,0.5))\n",
    "\n",
    "t,y = euler_midpoint(ode, 0.01, 0.1, 10, 0.1)\n",
    "\n",
    "print(t)\n",
    "print(y)"
   ]
  },
  {
   "cell_type": "code",
   "execution_count": 37,
   "metadata": {},
   "outputs": [
    {
     "name": "stdout",
     "output_type": "stream",
     "text": [
      "3\n",
      "Number of iterations: 3\n",
      "1.25\n"
     ]
    }
   ],
   "source": [
    "def bisect(func, a, b, tol=1e-8):\n",
    "    \"\"\"\n",
    "    Finds a root of the function func within the interval [a,b] using bisection method.\n",
    "    :param func: function to find root of\n",
    "    :param a: lower interval limit\n",
    "    :param b: upper interval limit\n",
    "    :param tol: tolerance for root approximation\n",
    "    :return: root of function\n",
    "    \"\"\"\n",
    "    if func(a) * func(b) >= 0:\n",
    "        print(\"Bisect method fails.\")\n",
    "        return None\n",
    "    c = a\n",
    "    count = 0\n",
    "    max_itr = 0\n",
    "    while (b-a) >= tol and (max_itr == 2 or max_itr == 1 or max_itr == 0):\n",
    "        c = (a+b)/2\n",
    "        count += 1\n",
    "        if func(c) == 0.0:\n",
    "            break\n",
    "        if func(c)*func(a) < 0:\n",
    "            b = c\n",
    "        else:\n",
    "            a = c\n",
    "        max_itr = max_itr + 1\n",
    "    print(max_itr)\n",
    "    print(\"Number of iterations:\", count)\n",
    "    return c\n",
    "\n",
    "def f(x): return x**2 - 2\n",
    "root = bisect(f, 0, 2, tol=1e-8)\n",
    "print(root)"
   ]
  },
  {
   "cell_type": "code",
   "execution_count": 31,
   "metadata": {},
   "outputs": [
    {
     "name": "stdout",
     "output_type": "stream",
     "text": [
      "Derivative is zero. Try again\n",
      "-1.0\n"
     ]
    }
   ],
   "source": [
    "import numpy as np\n",
    "\n",
    "def newton_raphson(func, dfunc, x0, tol=1e-5, maxiter=100):\n",
    "    \"\"\"\n",
    "    Finds a root of the function func using Newton-Raphson method.\n",
    "    :param func: function to find root of\n",
    "    :param dfunc: derivative of function\n",
    "    :param x0: initial guess of root\n",
    "    :param tol: tolerance for root approximation\n",
    "    :param maxiter: maximum number of iterations\n",
    "    :return: root of function\n",
    "    \"\"\"\n",
    "    xn = x0\n",
    "    try:\n",
    "        for n in range(0, maxiter):\n",
    "            fxn = func(xn)\n",
    "            if abs(fxn) < tol:\n",
    "                return xn\n",
    "            dfxn = dfunc(xn)\n",
    "            if dfxn == 0:\n",
    "                raise ValueError(\"Derivative is zero. Try again\")\n",
    "            xn = xn - fxn/dfxn\n",
    "    except ValueError as e:\n",
    "        print(e)\n",
    "    return xn\n",
    "def f(x): return x**3 + 2*x**2 + x + 1\n",
    "def df(x): return 3*x**2 + 4 * x + 1\n",
    "root = newton_raphson(f, df, 0)\n",
    "print(root)"
   ]
  },
  {
   "cell_type": "code",
   "execution_count": 27,
   "metadata": {},
   "outputs": [
    {
     "name": "stdout",
     "output_type": "stream",
     "text": [
      "3.000491363419608\n",
      "17\n"
     ]
    }
   ],
   "source": [
    "def secant(f, x0, x1, tol):\n",
    "    x = x1\n",
    "    it = 0\n",
    "    while abs(f(x)) > tol:   # iterate until less than or eq tol\n",
    "        x = x - f(x1) *(x1-x0) / (f(x1) - f(x0))  # apply one Newton iteration\n",
    "        x0 = x1\n",
    "        x1 = x\n",
    "        it = it + 1\n",
    "\n",
    "    return x, it\n",
    "\n",
    "f = lambda x: x * (x-3)**2\n",
    "\n",
    "root,itr = secant(f,4,5, 1e-6)\n",
    "print(root)\n",
    "print(itr)"
   ]
  },
  {
   "cell_type": "code",
   "execution_count": 2,
   "metadata": {
    "scrolled": true
   },
   "outputs": [
    {
     "name": "stdout",
     "output_type": "stream",
     "text": [
      "[[5.    0.    2.5  ]\n",
      " [0.    2.5   0.   ]\n",
      " [2.5   0.    2.125]]\n",
      "[4.   1.   3.25]\n",
      "[0.08571429 0.4        1.42857143]\n"
     ]
    }
   ],
   "source": [
    "#Least Square Fitting\n",
    "\n",
    "import numpy as np\n",
    "\n",
    "# Define the matrix\n",
    "A = np.array([[1,-1,1],[1,-0.5,0.25],[1,0,0],[1,0.5,0.25],[1,1,1]])\n",
    "\n",
    "# Transpose the matrix using the numpy.transpose() function\n",
    "A_transposed = np.transpose(A)\n",
    "C = np.dot(A_transposed, A)\n",
    "B = np.array([1,0.5,0,0.5,2])\n",
    "D = np.dot(A_transposed, B)\n",
    "print(C)\n",
    "print(D)\n",
    "X = np.linalg.solve(C, D)\n",
    "print(X)"
   ]
  },
  {
   "cell_type": "code",
   "execution_count": 6,
   "metadata": {},
   "outputs": [
    {
     "name": "stdout",
     "output_type": "stream",
     "text": [
      "Fitted parameters: x1 = 0.0857, x2 = 0.4 x3 = 1.4286\n"
     ]
    }
   ],
   "source": [
    "#\n",
    "import numpy as np\n",
    "from scipy.optimize import least_squares\n",
    "\n",
    "# Define the function to fit\n",
    "def func(x, a, b,c):\n",
    "    return a*x*x + b*x + c\n",
    "\n",
    "# Define the residuals (difference between data and model)\n",
    "def residuals(p, y, x):\n",
    "    return y - func(x, *p)\n",
    "\n",
    "# Initial guess for the parameters\n",
    "x = np.array([-1, -0.5, 0,0.5,1.0])\n",
    "y = np.array([1,0.5,0,0.5,2])\n",
    "p0 = [1, 1,1]\n",
    "\n",
    "# Perform the least squares optimization\n",
    "res = least_squares(residuals, p0, args=(y, x))\n",
    "res.x = np.around(res.x, decimals=4)\n",
    "\n",
    "# Print the results\n",
    "print(\"Fitted parameters: x1 = {2}, x2 = {1} x3 = {0}\".format(res.x[0], res.x[1],res.x[2]))\n"
   ]
  },
  {
   "cell_type": "code",
   "execution_count": null,
   "metadata": {},
   "outputs": [],
   "source": []
  }
 ],
 "metadata": {
  "kernelspec": {
   "display_name": "Python 3",
   "language": "python",
   "name": "python3"
  },
  "language_info": {
   "codemirror_mode": {
    "name": "ipython",
    "version": 3
   },
   "file_extension": ".py",
   "mimetype": "text/x-python",
   "name": "python",
   "nbconvert_exporter": "python",
   "pygments_lexer": "ipython3",
   "version": "3.8.8"
  }
 },
 "nbformat": 4,
 "nbformat_minor": 4
}
